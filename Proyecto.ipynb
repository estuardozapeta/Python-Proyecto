{
 "cells": [
  {
   "cell_type": "markdown",
   "metadata": {},
   "source": [
    "## **Proyecto - Ciencia de Datos en Python**\n",
    "\n",
    "### Definición de paquetes a utilizar\n",
    "\n",
    "* **numpy**: Es un paquete que implementa estructuras de datos mucho más eficientes y convenientes para el análisis científico.\n",
    "* **scikit-learn**: Paquete para desarrollar Machine Learning, se encuentra constituido sobre una base mátematica. Dentro de lo algoritmos que maneja se encuentran el aprendizaje supervisado, no supervisado, dataset, extracción y selección de características, entre otros.\n",
    "* **seaborn**: Libreria que permite la visualización de datos por medio de la creación de gráficos estadísticos.\n",
    "* **matplotlib**:\n",
    "\n",
    "### Desarrollo del Proyecto\n",
    "\n",
    "#### **Paso 1**: Importar paquetes"
   ]
  },
  {
   "cell_type": "code",
   "execution_count": 1,
   "metadata": {},
   "outputs": [],
   "source": [
    "import numpy as np\n",
    "import seaborn as sb\n",
    "from sklearn import linear_model\n",
    "import matplotlib.pyplot as plt"
   ]
  },
  {
   "cell_type": "markdown",
   "metadata": {},
   "source": [
    "#### **Paso 2**: Carga de datos"
   ]
  },
  {
   "cell_type": "code",
   "execution_count": 2,
   "metadata": {},
   "outputs": [],
   "source": [
    "array = np.load('proyecto_training_data.npy')"
   ]
  },
  {
   "cell_type": "markdown",
   "metadata": {},
   "source": [
    "#### **Paso 3**: Separación de datos en dos sets"
   ]
  },
  {
   "cell_type": "code",
   "execution_count": 3,
   "metadata": {},
   "outputs": [],
   "source": [
    "n_entreno = int(len(array)*0.8)\n",
    "\n",
    "set_entreno = array[0:n_entreno]\n",
    "set_prueba = array[n_entreno:]"
   ]
  },
  {
   "cell_type": "markdown",
   "metadata": {},
   "source": [
    "#### **Paso 4**: Análisis Exploratorio\n",
    "\n",
    "#### **4.1**: Estadística Descriptiva\n",
    "\n",
    "#### **4.1.1**: Obteniendo el set de datos de cada variable"
   ]
  },
  {
   "cell_type": "code",
   "execution_count": 4,
   "metadata": {},
   "outputs": [],
   "source": [
    "Y = set_entreno[:,0]\n",
    "X0 = set_entreno[:,1]\n",
    "X1 = set_entreno[:,2]\n",
    "X2 = set_entreno[:,3]\n",
    "X3 = set_entreno[:,4]\n",
    "X4 = set_entreno[:,5]"
   ]
  },
  {
   "cell_type": "markdown",
   "metadata": {},
   "source": [
    "#### **4.1.2**: Calculos estadísticos para la variable \"**Y**\" (Precio de venta)"
   ]
  },
  {
   "cell_type": "code",
   "execution_count": 5,
   "metadata": {},
   "outputs": [
    {
     "name": "stdout",
     "output_type": "stream",
     "text": [
      "Y - Media: 162.95\n",
      "Y - Valor máximo: 755.0\n",
      "Y - Valor mínimo: 34.9\n",
      "Y - Rango: 720.1\n",
      "Y - Desviación estándar: 78.78195108033361\n"
     ]
    }
   ],
   "source": [
    "Y = Y/1000\n",
    "media_Y = np.median(Y)\n",
    "max_Y = np.max(Y)\n",
    "min_Y = np.min(Y)\n",
    "ptp_Y = np.ptp(Y)\n",
    "std_Y = np.std(Y)\n",
    "\n",
    "print(\"Y - Media:\", media_Y)\n",
    "print(\"Y - Valor máximo:\", max_Y)\n",
    "print(\"Y - Valor mínimo:\", min_Y)\n",
    "print(\"Y - Rango:\", ptp_Y)\n",
    "print(\"Y - Desviación estándar:\", std_Y)"
   ]
  },
  {
   "cell_type": "markdown",
   "metadata": {},
   "source": [
    "#### **4.1.3**: Calculos estadísticos para la variable **X0** (Calidad)"
   ]
  },
  {
   "cell_type": "code",
   "execution_count": 6,
   "metadata": {},
   "outputs": [
    {
     "name": "stdout",
     "output_type": "stream",
     "text": [
      "X0 - Media: 6.0\n",
      "X0 - Valor máximo: 10.0\n",
      "X0 - Valor mínimo: 1.0\n",
      "X0 - Rango: 9.0\n",
      "X0 - Desviación estándar: 1.377435193240741\n"
     ]
    }
   ],
   "source": [
    "media_X0 = np.median(X0)\n",
    "max_X0 = np.max(X0)\n",
    "min_X0 = np.min(X0)\n",
    "ptp_X0 = np.ptp(X0)\n",
    "std_X0 = np.std(X0)\n",
    "\n",
    "print(\"X0 - Media:\", media_X0)\n",
    "print(\"X0 - Valor máximo:\", max_X0)\n",
    "print(\"X0 - Valor mínimo:\", min_X0)\n",
    "print(\"X0 - Rango:\", ptp_X0)\n",
    "print(\"X0 - Desviación estándar:\", std_X0)"
   ]
  },
  {
   "cell_type": "markdown",
   "metadata": {},
   "source": [
    "#### **4.1.4**: Calculos estadísticos para la variable **X1** (Pies cuadrados)"
   ]
  },
  {
   "cell_type": "code",
   "execution_count": 7,
   "metadata": {},
   "outputs": [
    {
     "name": "stdout",
     "output_type": "stream",
     "text": [
      "X1 - Media: 1086.0\n",
      "X1 - Valor máximo: 3228.0\n",
      "X1 - Valor mínimo: 334.0\n",
      "X1 - Rango: 2894.0\n",
      "X1 - Desviación estándar: 373.620331503586\n"
     ]
    }
   ],
   "source": [
    "media_X1 = np.median(X1)\n",
    "max_X1 = np.max(X1)\n",
    "min_X1 = np.min(X1)\n",
    "ptp_X1 = np.ptp(X1)\n",
    "std_X1 = np.std(X1)\n",
    "\n",
    "print(\"X1 - Media:\", media_X1)\n",
    "print(\"X1 - Valor máximo:\", max_X1)\n",
    "print(\"X1 - Valor mínimo:\", min_X1)\n",
    "print(\"X1 - Rango:\", ptp_X1)\n",
    "print(\"X1 - Desviación estándar:\", std_X1)"
   ]
  },
  {
   "cell_type": "markdown",
   "metadata": {},
   "source": [
    "#### **4.1.5**: Calculos estadísticos para la variable **X2** (Cantidad de habitaciones)"
   ]
  },
  {
   "cell_type": "code",
   "execution_count": 8,
   "metadata": {},
   "outputs": [
    {
     "name": "stdout",
     "output_type": "stream",
     "text": [
      "X2 - Media: 6.0\n",
      "X2 - Valor máximo: 14.0\n",
      "X2 - Valor mínimo: 2.0\n",
      "X2 - Rango: 12.0\n",
      "X2 - Desviación estándar: 1.6084517167387253\n"
     ]
    }
   ],
   "source": [
    "media_X2 = np.median(X2)\n",
    "max_X2 = np.max(X2)\n",
    "min_X2 = np.min(X2)\n",
    "ptp_X2 = np.ptp(X2)\n",
    "std_X2 = np.std(X2)\n",
    "\n",
    "print(\"X2 - Media:\", media_X2)\n",
    "print(\"X2 - Valor máximo:\", max_X2)\n",
    "print(\"X2 - Valor mínimo:\", min_X2)\n",
    "print(\"X2 - Rango:\", ptp_X2)\n",
    "print(\"X2 - Desviación estándar:\", std_X2)"
   ]
  },
  {
   "cell_type": "markdown",
   "metadata": {},
   "source": [
    "#### **4.1.6**: Calculos estadísticos para la variable **X3** (Año de construcción)"
   ]
  },
  {
   "cell_type": "code",
   "execution_count": 9,
   "metadata": {},
   "outputs": [
    {
     "name": "stdout",
     "output_type": "stream",
     "text": [
      "X3 - Media: 1973.0\n",
      "X3 - Valor máximo: 2010.0\n",
      "X3 - Valor mínimo: 1875.0\n",
      "X3 - Rango: 135.0\n",
      "X3 - Desviación estándar: 29.93888206867768\n"
     ]
    }
   ],
   "source": [
    "media_X3 = np.median(X3)\n",
    "max_X3 = np.max(X3)\n",
    "min_X3 = np.min(X3)\n",
    "ptp_X3 = np.ptp(X3)\n",
    "std_X3 = np.std(X3)\n",
    "\n",
    "print(\"X3 - Media:\", media_X3)\n",
    "print(\"X3 - Valor máximo:\", max_X3)\n",
    "print(\"X3 - Valor mínimo:\", min_X3)\n",
    "print(\"X3 - Rango:\", ptp_X3)\n",
    "print(\"X3 - Desviación estándar:\", std_X3)"
   ]
  },
  {
   "cell_type": "markdown",
   "metadata": {},
   "source": [
    "#### **4.1.7**: Calculos estadísticos para la variable **X4** (Pies de Frente)"
   ]
  },
  {
   "cell_type": "code",
   "execution_count": 11,
   "metadata": {},
   "outputs": [
    {
     "name": "stdout",
     "output_type": "stream",
     "text": [
      "X4 - Media: nan\n",
      "X4 - Valor máximo: nan\n",
      "X4 - Valor mínimo: nan\n",
      "X4 - Rango: nan\n",
      "X4 - Desviación estándar: nan\n"
     ]
    }
   ],
   "source": [
    "media_X4 = np.median(X4)\n",
    "max_X4 = np.max(X4)\n",
    "min_X4 = np.min(X4)\n",
    "ptp_X4 = np.ptp(X4)\n",
    "std_X4 = np.std(X4)\n",
    "\n",
    "print(\"X4 - Media:\", media_X4)\n",
    "print(\"X4 - Valor máximo:\", max_X4)\n",
    "print(\"X4 - Valor mínimo:\", min_X4)\n",
    "print(\"X4 - Rango:\", ptp_X4)\n",
    "print(\"X4 - Desviación estándar:\", std_X4)"
   ]
  },
  {
   "cell_type": "markdown",
   "metadata": {},
   "source": [
    "#### **4.2**: Gráficas\n",
    "\n",
    "#### **4.2.1**: Histograma de la variable \"**Y**\" (Precio de venta)"
   ]
  },
  {
   "cell_type": "code",
   "execution_count": 12,
   "metadata": {},
   "outputs": [
    {
     "data": {
      "text/plain": [
       "<matplotlib.axes._subplots.AxesSubplot at 0x18c7f660248>"
      ]
     },
     "execution_count": 12,
     "metadata": {},
     "output_type": "execute_result"
    },
    {
     "data": {
      "image/png": "[encoded data removed]",
      "text/plain": [
       "<Figure size 432x288 with 1 Axes>"
      ]
     },
     "metadata": {
      "needs_background": "light"
     },
     "output_type": "display_data"
    }
   ],
   "source": [
    "sb.distplot(Y)"
   ]
  },
  {
   "cell_type": "markdown",
   "metadata": {},
   "source": [
    "#### **4.2.2**: Histograma de la variable **X0** (Calidad)"
   ]
  },
  {
   "cell_type": "code",
   "execution_count": 13,
   "metadata": {},
   "outputs": [
    {
     "data": {
      "text/plain": [
       "<matplotlib.axes._subplots.AxesSubplot at 0x18c7f9e7588>"
      ]
     },
     "execution_count": 13,
     "metadata": {},
     "output_type": "execute_result"
    },
    {
     "data": {
      "image/png": "[encoded data removed]",
      "text/plain": [
       "<Figure size 432x288 with 1 Axes>"
      ]
     },
     "metadata": {
      "needs_background": "light"
     },
     "output_type": "display_data"
    }
   ],
   "source": [
    "sb.distplot(X0)"
   ]
  },
  {
   "cell_type": "markdown",
   "metadata": {},
   "source": [
    "#### **4.2.3**: Histograma de la variable **X1** (Pies cuadrados)"
   ]
  },
  {
   "cell_type": "code",
   "execution_count": 14,
   "metadata": {},
   "outputs": [
    {
     "data": {
      "text/plain": [
       "<matplotlib.axes._subplots.AxesSubplot at 0x18c7facca08>"
      ]
     },
     "execution_count": 14,
     "metadata": {},
     "output_type": "execute_result"
    },
    {
     "data": {
      "image/png": "[encoded data removed]",
      "text/plain": [
       "<Figure size 432x288 with 1 Axes>"
      ]
     },
     "metadata": {
      "needs_background": "light"
     },
     "output_type": "display_data"
    }
   ],
   "source": [
    "sb.distplot(X1)"
   ]
  },
  {
   "cell_type": "markdown",
   "metadata": {},
   "source": [
    "#### **4.2.4**: Histograma de la variable **X2** (Cantidad de habitaciones)"
   ]
  },
  {
   "cell_type": "code",
   "execution_count": 15,
   "metadata": {},
   "outputs": [
    {
     "data": {
      "text/plain": [
       "<matplotlib.axes._subplots.AxesSubplot at 0x18c7fb8f948>"
      ]
     },
     "execution_count": 15,
     "metadata": {},
     "output_type": "execute_result"
    },
    {
     "data": {
      "image/png": "[encoded data removed]",
      "text/plain": [
       "<Figure size 432x288 with 1 Axes>"
      ]
     },
     "metadata": {
      "needs_background": "light"
     },
     "output_type": "display_data"
    }
   ],
   "source": [
    "sb.distplot(X2)"
   ]
  },
  {
   "cell_type": "markdown",
   "metadata": {},
   "source": [
    "#### **4.2.5**: Histograma de la variable **X3** (Año de construcción)"
   ]
  },
  {
   "cell_type": "code",
   "execution_count": 16,
   "metadata": {},
   "outputs": [
    {
     "data": {
      "text/plain": [
       "<matplotlib.axes._subplots.AxesSubplot at 0x18c7f9eec08>"
      ]
     },
     "execution_count": 16,
     "metadata": {},
     "output_type": "execute_result"
    },
    {
     "data": {
      "image/png": "[encoded data removed]",
      "text/plain": [
       "<Figure size 432x288 with 1 Axes>"
      ]
     },
     "metadata": {
      "needs_background": "light"
     },
     "output_type": "display_data"
    }
   ],
   "source": [
    "sb.distplot(X3)"
   ]
  },
  {
   "cell_type": "markdown",
   "metadata": {},
   "source": [
    "#### **4.2.6**: Histograma de la variable **X4** (Pies de Frente)"
   ]
  },
  {
   "cell_type": "code",
   "execution_count": null,
   "metadata": {},
   "outputs": [],
   "source": [
    "sb.distplot(X4)"
   ]
  },
  {
   "cell_type": "markdown",
   "metadata": {},
   "source": [
    "#### **Paso 5**: Calculando Coeficiente de Correlación\n",
    "#### **5.1** Coeficiente de Correlación para las Variables Independientes\n",
    "#### **5.1.1** Coeficiente de Correlación para la variable **X0**"
   ]
  },
  {
   "cell_type": "code",
   "execution_count": 18,
   "metadata": {},
   "outputs": [
    {
     "data": {
      "text/plain": [
       "0.7939900504626409"
      ]
     },
     "execution_count": 18,
     "metadata": {},
     "output_type": "execute_result"
    }
   ],
   "source": [
    "coef_corr_X0 = np.corrcoef(X0, Y)\n",
    "cf_corr_X0 = coef_corr_X0[0,1]\n",
    "cf_corr_X0"
   ]
  },
  {
   "cell_type": "markdown",
   "metadata": {},
   "source": [
    "#### **5.1.2** Coeficiente de Correlación para la variable **X1**"
   ]
  },
  {
   "cell_type": "code",
   "execution_count": 19,
   "metadata": {},
   "outputs": [
    {
     "data": {
      "text/plain": [
       "0.6162887000998715"
      ]
     },
     "execution_count": 19,
     "metadata": {},
     "output_type": "execute_result"
    }
   ],
   "source": [
    "coef_corr_X1 = np.corrcoef(X1, Y)\n",
    "cf_corr_X1 = coef_corr_X1[0,1]\n",
    "cf_corr_X1"
   ]
  },
  {
   "cell_type": "markdown",
   "metadata": {},
   "source": [
    "#### **5.1.3** Coeficiente de Correlación para la variable **X2**"
   ]
  },
  {
   "cell_type": "code",
   "execution_count": 20,
   "metadata": {},
   "outputs": [
    {
     "data": {
      "text/plain": [
       "0.5647069399593068"
      ]
     },
     "execution_count": 20,
     "metadata": {},
     "output_type": "execute_result"
    }
   ],
   "source": [
    "coef_corr_X2 = np.corrcoef(X2, Y)\n",
    "cf_corr_X2 = coef_corr_X2[0,1]\n",
    "cf_corr_X2"
   ]
  },
  {
   "cell_type": "markdown",
   "metadata": {},
   "source": [
    "#### **5.1.4** Coeficiente de Correlación para la variable **X3**"
   ]
  },
  {
   "cell_type": "code",
   "execution_count": 21,
   "metadata": {},
   "outputs": [
    {
     "data": {
      "text/plain": [
       "0.5341706927117518"
      ]
     },
     "execution_count": 21,
     "metadata": {},
     "output_type": "execute_result"
    }
   ],
   "source": [
    "coef_corr_X3 = np.corrcoef(X3, Y)\n",
    "cf_corr_X3 = coef_corr_X3[0,1]\n",
    "cf_corr_X3"
   ]
  },
  {
   "cell_type": "markdown",
   "metadata": {},
   "source": [
    "#### **5.1.5** Coeficiente de Correlación para la variable **X4**"
   ]
  },
  {
   "cell_type": "code",
   "execution_count": 22,
   "metadata": {},
   "outputs": [
    {
     "data": {
      "text/plain": [
       "nan"
      ]
     },
     "execution_count": 22,
     "metadata": {},
     "output_type": "execute_result"
    }
   ],
   "source": [
    "coef_corr_X4 = np.corrcoef(X4, Y)\n",
    "cf_corr_X4 = coef_corr_X4[0,1]\n",
    "cf_corr_X4"
   ]
  },
  {
   "cell_type": "markdown",
   "metadata": {},
   "source": [
    "#### **5.2** Gráfica de Dispersión\n",
    "#### **5.2.1** X0 vrs Y"
   ]
  },
  {
   "cell_type": "code",
   "execution_count": 23,
   "metadata": {},
   "outputs": [
    {
     "data": {
      "image/png": "[encoded data removed]",
      "text/plain": [
       "<Figure size 432x288 with 1 Axes>"
      ]
     },
     "metadata": {
      "needs_background": "light"
     },
     "output_type": "display_data"
    }
   ],
   "source": [
    "plt.title(\"Coeficiente de Correlación = %f\"%cf_corr_X0)\n",
    "plt.xlabel(\"X0\")\n",
    "plt.ylabel(\"Y\")\n",
    "plt.scatter(X0,Y,color=\"green\")\n",
    "plt.show()"
   ]
  },
  {
   "cell_type": "markdown",
   "metadata": {},
   "source": [
    "#### **5.2.2** X1 vrs Y"
   ]
  },
  {
   "cell_type": "code",
   "execution_count": 24,
   "metadata": {},
   "outputs": [
    {
     "data": {
      "image/png": "[encoded data removed]",
      "text/plain": [
       "<Figure size 432x288 with 1 Axes>"
      ]
     },
     "metadata": {
      "needs_background": "light"
     },
     "output_type": "display_data"
    }
   ],
   "source": [
    "plt.title(\"Coeficiente de Correlación = %f\"%cf_corr_X1)\n",
    "plt.xlabel(\"X1\")\n",
    "plt.ylabel(\"Y\")\n",
    "plt.scatter(X1,Y,color=\"green\")\n",
    "plt.show()"
   ]
  },
  {
   "cell_type": "markdown",
   "metadata": {},
   "source": [
    "#### **5.2.3** X2 vrs Y"
   ]
  },
  {
   "cell_type": "code",
   "execution_count": 25,
   "metadata": {},
   "outputs": [
    {
     "data": {
      "image/png": "[encoded data removed]",
      "text/plain": [
       "<Figure size 432x288 with 1 Axes>"
      ]
     },
     "metadata": {
      "needs_background": "light"
     },
     "output_type": "display_data"
    }
   ],
   "source": [
    "plt.title(\"Coeficiente de Correlación = %f\"%cf_corr_X2)\n",
    "plt.xlabel(\"X2\")\n",
    "plt.ylabel(\"Y\")\n",
    "plt.scatter(X2,Y,color=\"green\")\n",
    "plt.show()"
   ]
  },
  {
   "cell_type": "markdown",
   "metadata": {},
   "source": [
    "#### **5.2.4** X3 vrs Y"
   ]
  },
  {
   "cell_type": "code",
   "execution_count": 26,
   "metadata": {},
   "outputs": [
    {
     "data": {
      "image/png": "[encoded data removed]",
      "text/plain": [
       "<Figure size 432x288 with 1 Axes>"
      ]
     },
     "metadata": {
      "needs_background": "light"
     },
     "output_type": "display_data"
    }
   ],
   "source": [
    "plt.title(\"Coeficiente de Correlación = %f\"%cf_corr_X3)\n",
    "plt.xlabel(\"X3\")\n",
    "plt.ylabel(\"Y\")\n",
    "plt.scatter(X3,Y,color=\"green\")\n",
    "plt.show()"
   ]
  },
  {
   "cell_type": "markdown",
   "metadata": {},
   "source": [
    "#### **5.2.5** X4 vrs Y"
   ]
  },
  {
   "cell_type": "code",
   "execution_count": 27,
   "metadata": {},
   "outputs": [
    {
     "data": {
      "image/png": "[encoded data removed]",
      "text/plain": [
       "<Figure size 432x288 with 1 Axes>"
      ]
     },
     "metadata": {
      "needs_background": "light"
     },
     "output_type": "display_data"
    }
   ],
   "source": [
    "plt.title(\"Coeficiente de Correlación = %f\"%cf_corr_X4)\n",
    "plt.xlabel(\"X4\")\n",
    "plt.ylabel(\"Y\")\n",
    "plt.scatter(X4,Y,color=\"green\")\n",
    "plt.show()"
   ]
  },
  {
   "cell_type": "markdown",
   "metadata": {},
   "source": [
    "#### **5.3** Selección de las variables con mayor potencial predictivo\n",
    "\n",
    "* X0 (Calidad) -> Coeficiente de correlación = 0.793990\n",
    "* X1 (Pies cuadrados) -> Coeficiente de correlación = 0.616289"
   ]
  },
  {
   "cell_type": "markdown",
   "metadata": {},
   "source": [
    "#### **Paso 6**: Construcción de la función para entrenar modelo de regresión lineal"
   ]
  },
  {
   "cell_type": "code",
   "execution_count": 28,
   "metadata": {},
   "outputs": [],
   "source": [
    "def entrenar_modelo(vector_x, vector_y, epochs, imprimir_error_cada, learning_rate, vector_parametros, vector_error, dic_modelo_iter):\n",
    "    \n",
    "    if epochs != 0:\n",
    "        \n",
    "        vector_uno = np.ones_like(vector_x)\n",
    "        data_set = np.stack((vector_x, vector_uno)).T\n",
    "\n",
    "        global yhat\n",
    "        global error\n",
    "        yhat = np.dot(data_set, vector_parametros)\n",
    "        error = ((vector_y - yhat)**2).mean() * 0.5\n",
    "\n",
    "        vector_error.append(error)    \n",
    "        vector_gradiente = np.mean((yhat-vector_y).reshape((n_entreno,1)) * data_set, axis=0)    \n",
    "        vector_parametros = (vector_parametros - learning_rate) * vector_gradiente\n",
    "\n",
    "        dic_modelo_iter[epochs] = vector_parametros\n",
    "        epochs -= 1\n",
    "        \n",
    "        yhat, error = entrenar_modelo(vector_x, vector_y, epochs, imprimir_error_cada, learning_rate, vector_parametros, vector_error, dic_modelo_iter)\n",
    "    \n",
    "    return yhat, error"
   ]
  }
 ],
 "metadata": {
  "kernelspec": {
   "display_name": "Python 3",
   "language": "python",
   "name": "python3"
  },
  "language_info": {
   "codemirror_mode": {
    "name": "ipython",
    "version": 3
   },
   "file_extension": ".py",
   "mimetype": "text/x-python",
   "name": "python",
   "nbconvert_exporter": "python",
   "pygments_lexer": "ipython3",
   "version": "3.7.4"
  }
 },
 "nbformat": 4,
 "nbformat_minor": 4
}
