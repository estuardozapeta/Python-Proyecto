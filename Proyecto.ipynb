{
 "cells": [
  {
   "cell_type": "markdown",
   "metadata": {},
   "source": [
    "## **Proyecto - Ciencia de Datos en Python**\n",
    "\n",
    "### Definición de paquetes a utilizar\n",
    "\n",
    "* **Numpy**: Es un paquete que implementa estructuras de datos mucho más eficientes y convenientes para el análisis científico.\n",
    "* **Scikit-learn**: Paquete para desarrollar Machine Learning, se encuentra constituido sobre una base mátematica. Dentro de lo algoritmos que maneja se encuentran el aprendizaje supervisado, no supervisado, dataset, extracción y selección de características, entre otros.\n",
    "* **Seaborn**: Libreria que permite la visualización de datos por medio de la creación de gráficos estadísticos.\n",
    "\n",
    "### Desarrollo del Proyecto\n",
    "\n",
    "#### **Paso 1**: Importar paquetes"
   ]
  },
  {
   "cell_type": "code",
   "execution_count": null,
   "metadata": {},
   "outputs": [],
   "source": [
    "import numpy as np\n",
    "import seaborn as sb\n",
    "from sklearn import linear_model"
   ]
  },
  {
   "cell_type": "markdown",
   "metadata": {},
   "source": [
    "#### **Paso 2**: Carga de datos"
   ]
  },
  {
   "cell_type": "code",
   "execution_count": null,
   "metadata": {},
   "outputs": [],
   "source": [
    "array = np.load('proyecto_training_data.npy')"
   ]
  },
  {
   "cell_type": "markdown",
   "metadata": {},
   "source": [
    "#### **Paso 3**: Separación de datos en dos sets"
   ]
  },
  {
   "cell_type": "code",
   "execution_count": null,
   "metadata": {},
   "outputs": [],
   "source": [
    "n_entreno = int(len(array)*0.8)\n",
    "\n",
    "set_entreno = array[0:n_entreno]\n",
    "set_prueba = array[n_entreno:]"
   ]
  },
  {
   "cell_type": "markdown",
   "metadata": {},
   "source": [
    "#### **Paso 4**: Análisis Exploratorio\n",
    "\n",
    "#### **4.1**: Estadística Descriptiva\n",
    "\n",
    "#### **4.1.1**: Obteniendo el set de datos de cada variable"
   ]
  },
  {
   "cell_type": "code",
   "execution_count": 65,
   "metadata": {},
   "outputs": [],
   "source": [
    "X0 = set_entreno[:,0]\n",
    "X1 = set_entreno[:,1]\n",
    "X2 = set_entreno[:,2]\n",
    "X3 = set_entreno[:,3]\n",
    "X4 = set_entreno[:,4]\n",
    "X5 = set_entreno[:,5]"
   ]
  },
  {
   "cell_type": "markdown",
   "metadata": {},
   "source": [
    "#### **4.1.2**: Calculos estadísticos para la variable **X0**"
   ]
  },
  {
   "cell_type": "code",
   "execution_count": 66,
   "metadata": {},
   "outputs": [
    {
     "name": "stdout",
     "output_type": "stream",
     "text": [
      "X0 - Media: 162950.0\n",
      "X0 - Valor máximo: 755000.0\n",
      "X0 - Valor mínimo: 34900.0\n",
      "X0 - Rango: 720100.0\n",
      "X0 - Desviación estándar: 78781.95108033362\n"
     ]
    }
   ],
   "source": [
    "media_X0 = np.median(X0)\n",
    "max_X0 = np.max(X0)\n",
    "min_X0 = np.min(X0)\n",
    "ptp_X0 = np.ptp(X0)\n",
    "std_X0 = np.std(X0)\n",
    "\n",
    "print(\"X0 - Media:\", media_X0)\n",
    "print(\"X0 - Valor máximo:\", max_X0)\n",
    "print(\"X0 - Valor mínimo:\", min_X0)\n",
    "print(\"X0 - Rango:\", ptp_X0)\n",
    "print(\"X0 - Desviación estándar:\", std_X0)"
   ]
  },
  {
   "cell_type": "markdown",
   "metadata": {},
   "source": [
    "#### **4.1.3**: Calculos estadísticos para la variable **X1**"
   ]
  },
  {
   "cell_type": "code",
   "execution_count": 67,
   "metadata": {},
   "outputs": [
    {
     "name": "stdout",
     "output_type": "stream",
     "text": [
      "X1 - Media: 6.0\n",
      "X1 - Valor máximo: 10.0\n",
      "X1 - Valor mínimo: 1.0\n",
      "X1 - Rango: 9.0\n",
      "X1 - Desviación estándar: 1.377435193240741\n"
     ]
    }
   ],
   "source": [
    "media_X1 = np.median(X1)\n",
    "max_X1 = np.max(X1)\n",
    "min_X1 = np.min(X1)\n",
    "ptp_X1 = np.ptp(X1)\n",
    "std_X1 = np.std(X1)\n",
    "\n",
    "print(\"X1 - Media:\", media_X1)\n",
    "print(\"X1 - Valor máximo:\", max_X1)\n",
    "print(\"X1 - Valor mínimo:\", min_X1)\n",
    "print(\"X1 - Rango:\", ptp_X1)\n",
    "print(\"X1 - Desviación estándar:\", std_X1)"
   ]
  },
  {
   "cell_type": "markdown",
   "metadata": {},
   "source": [
    "#### **4.1.4**: Calculos estadísticos para la variable **X2**"
   ]
  },
  {
   "cell_type": "code",
   "execution_count": 68,
   "metadata": {},
   "outputs": [
    {
     "name": "stdout",
     "output_type": "stream",
     "text": [
      "X2 - Media: 1086.0\n",
      "X2 - Valor máximo: 3228.0\n",
      "X2 - Valor mínimo: 334.0\n",
      "X2 - Rango: 2894.0\n",
      "X2 - Desviación estándar: 373.620331503586\n"
     ]
    }
   ],
   "source": [
    "media_X2 = np.median(X2)\n",
    "max_X2 = np.max(X2)\n",
    "min_X2 = np.min(X2)\n",
    "ptp_X2 = np.ptp(X2)\n",
    "std_X2 = np.std(X2)\n",
    "\n",
    "print(\"X2 - Media:\", media_X2)\n",
    "print(\"X2 - Valor máximo:\", max_X2)\n",
    "print(\"X2 - Valor mínimo:\", min_X2)\n",
    "print(\"X2 - Rango:\", ptp_X2)\n",
    "print(\"X2 - Desviación estándar:\", std_X2)"
   ]
  },
  {
   "cell_type": "markdown",
   "metadata": {},
   "source": [
    "#### **4.1.5**: Calculos estadísticos para la variable **X3**"
   ]
  },
  {
   "cell_type": "code",
   "execution_count": 69,
   "metadata": {},
   "outputs": [
    {
     "name": "stdout",
     "output_type": "stream",
     "text": [
      "X3 - Media: 6.0\n",
      "X3 - Valor máximo: 14.0\n",
      "X3 - Valor mínimo: 2.0\n",
      "X3 - Rango: 12.0\n",
      "X3 - Desviación estándar: 1.6084517167387253\n"
     ]
    }
   ],
   "source": [
    "media_X3 = np.median(X3)\n",
    "max_X3 = np.max(X3)\n",
    "min_X3 = np.min(X3)\n",
    "ptp_X3 = np.ptp(X3)\n",
    "std_X3 = np.std(X3)\n",
    "\n",
    "print(\"X3 - Media:\", media_X3)\n",
    "print(\"X3 - Valor máximo:\", max_X3)\n",
    "print(\"X3 - Valor mínimo:\", min_X3)\n",
    "print(\"X3 - Rango:\", ptp_X3)\n",
    "print(\"X3 - Desviación estándar:\", std_X3)"
   ]
  },
  {
   "cell_type": "markdown",
   "metadata": {},
   "source": [
    "#### **4.1.6**: Calculos estadísticos para la variable **X4**"
   ]
  },
  {
   "cell_type": "code",
   "execution_count": 70,
   "metadata": {},
   "outputs": [
    {
     "name": "stdout",
     "output_type": "stream",
     "text": [
      "X4 - Media: 1973.0\n",
      "X4 - Valor máximo: 2010.0\n",
      "X4 - Valor mínimo: 1875.0\n",
      "X4 - Rango: 135.0\n",
      "X4 - Desviación estándar: 29.93888206867768\n"
     ]
    }
   ],
   "source": [
    "media_X4 = np.median(X4)\n",
    "max_X4 = np.max(X4)\n",
    "min_X4 = np.min(X4)\n",
    "ptp_X4 = np.ptp(X4)\n",
    "std_X4 = np.std(X4)\n",
    "\n",
    "print(\"X4 - Media:\", media_X4)\n",
    "print(\"X4 - Valor máximo:\", max_X4)\n",
    "print(\"X4 - Valor mínimo:\", min_X4)\n",
    "print(\"X4 - Rango:\", ptp_X4)\n",
    "print(\"X4 - Desviación estándar:\", std_X4)"
   ]
  },
  {
   "cell_type": "markdown",
   "metadata": {},
   "source": [
    "#### **4.1.7**: Calculos estadísticos para la variable **X5**"
   ]
  },
  {
   "cell_type": "code",
   "execution_count": 71,
   "metadata": {},
   "outputs": [
    {
     "name": "stdout",
     "output_type": "stream",
     "text": [
      "X5 - Media: nan\n",
      "X5 - Valor máximo: nan\n",
      "X5 - Valor mínimo: nan\n",
      "X5 - Rango: nan\n",
      "X5 - Desviación estándar: nan\n"
     ]
    }
   ],
   "source": [
    "media_X5 = np.median(X5)\n",
    "max_X5 = np.max(X5)\n",
    "min_X5 = np.min(X5)\n",
    "ptp_X5 = np.ptp(X5)\n",
    "std_X5 = np.std(X5)\n",
    "\n",
    "print(\"X5 - Media:\", media_X5)\n",
    "print(\"X5 - Valor máximo:\", max_X5)\n",
    "print(\"X5 - Valor mínimo:\", min_X5)\n",
    "print(\"X5 - Rango:\", ptp_X5)\n",
    "print(\"X5 - Desviación estándar:\", std_X5)"
   ]
  },
  {
   "cell_type": "markdown",
   "metadata": {},
   "source": [
    "#### **4.2**: Gráficas\n",
    "\n",
    "#### **4.2.1**: Histograma de la variable X0"
   ]
  },
  {
   "cell_type": "code",
   "execution_count": 73,
   "metadata": {},
   "outputs": [
    {
     "data": {
      "text/plain": [
       "<matplotlib.axes._subplots.AxesSubplot at 0x18f792ad7c8>"
      ]
     },
     "execution_count": 73,
     "metadata": {},
     "output_type": "execute_result"
    },
    {
     "data": {
      "image/png": "[encoded data removed]",
      "text/plain": [
       "<Figure size 432x288 with 1 Axes>"
      ]
     },
     "metadata": {
      "needs_background": "light"
     },
     "output_type": "display_data"
    }
   ],
   "source": [
    "sb.distplot(X0)"
   ]
  },
  {
   "cell_type": "markdown",
   "metadata": {},
   "source": [
    "#### **4.2.2**: Histograma de la variable X1"
   ]
  },
  {
   "cell_type": "code",
   "execution_count": 74,
   "metadata": {},
   "outputs": [
    {
     "data": {
      "text/plain": [
       "<matplotlib.axes._subplots.AxesSubplot at 0x18f79245e88>"
      ]
     },
     "execution_count": 74,
     "metadata": {},
     "output_type": "execute_result"
    },
    {
     "data": {
      "image/png": "[encoded data removed]",
      "text/plain": [
       "<Figure size 432x288 with 1 Axes>"
      ]
     },
     "metadata": {
      "needs_background": "light"
     },
     "output_type": "display_data"
    }
   ],
   "source": [
    "sb.distplot(X1)"
   ]
  },
  {
   "cell_type": "markdown",
   "metadata": {},
   "source": [
    "#### **4.2.3**: Histograma de la variable X2"
   ]
  },
  {
   "cell_type": "code",
   "execution_count": 75,
   "metadata": {},
   "outputs": [
    {
     "data": {
      "text/plain": [
       "<matplotlib.axes._subplots.AxesSubplot at 0x18f79441048>"
      ]
     },
     "execution_count": 75,
     "metadata": {},
     "output_type": "execute_result"
    },
    {
     "data": {
      "image/png": "[encoded data removed]",
      "text/plain": [
       "<Figure size 432x288 with 1 Axes>"
      ]
     },
     "metadata": {
      "needs_background": "light"
     },
     "output_type": "display_data"
    }
   ],
   "source": [
    "sb.distplot(X2)"
   ]
  },
  {
   "cell_type": "markdown",
   "metadata": {},
   "source": [
    "#### **4.2.4**: Histograma de la variable X3"
   ]
  },
  {
   "cell_type": "code",
   "execution_count": 76,
   "metadata": {},
   "outputs": [
    {
     "data": {
      "text/plain": [
       "<matplotlib.axes._subplots.AxesSubplot at 0x18f79501d48>"
      ]
     },
     "execution_count": 76,
     "metadata": {},
     "output_type": "execute_result"
    },
    {
     "data": {
      "image/png": "[encoded data removed]",
      "text/plain": [
       "<Figure size 432x288 with 1 Axes>"
      ]
     },
     "metadata": {
      "needs_background": "light"
     },
     "output_type": "display_data"
    }
   ],
   "source": [
    "sb.distplot(X3)"
   ]
  },
  {
   "cell_type": "markdown",
   "metadata": {},
   "source": [
    "#### **4.2.5**: Histograma de la variable X4"
   ]
  },
  {
   "cell_type": "code",
   "execution_count": 77,
   "metadata": {},
   "outputs": [
    {
     "data": {
      "text/plain": [
       "<matplotlib.axes._subplots.AxesSubplot at 0x18f7957f488>"
      ]
     },
     "execution_count": 77,
     "metadata": {},
     "output_type": "execute_result"
    },
    {
     "data": {
      "image/png": "[encoded data removed]",
      "text/plain": [
       "<Figure size 432x288 with 1 Axes>"
      ]
     },
     "metadata": {
      "needs_background": "light"
     },
     "output_type": "display_data"
    }
   ],
   "source": [
    "sb.distplot(X4)"
   ]
  },
  {
   "cell_type": "markdown",
   "metadata": {},
   "source": [
    "#### **4.2.6**: Histograma de la variable X5"
   ]
  },
  {
   "cell_type": "code",
   "execution_count": null,
   "metadata": {},
   "outputs": [],
   "source": [
    "sb.distplot(X5)"
   ]
  }
 ],
 "metadata": {
  "kernelspec": {
   "display_name": "Python 3",
   "language": "python",
   "name": "python3"
  },
  "language_info": {
   "codemirror_mode": {
    "name": "ipython",
    "version": 3
   },
   "file_extension": ".py",
   "mimetype": "text/x-python",
   "name": "python",
   "nbconvert_exporter": "python",
   "pygments_lexer": "ipython3",
   "version": "3.7.4"
  }
 },
 "nbformat": 4,
 "nbformat_minor": 4
}
